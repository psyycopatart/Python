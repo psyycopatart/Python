{
 "cells": [
  {
   "cell_type": "markdown",
   "metadata": {},
   "source": [
    "def taille_mot(mot):\n",
    "    print(len(mot))"
   ]
  },
  {
   "cell_type": "code",
   "execution_count": 3,
   "metadata": {},
   "outputs": [
    {
     "name": "stdout",
     "output_type": "stream",
     "text": [
      "4\n"
     ]
    }
   ],
   "source": [
    "taille_mot('test')"
   ]
  },
  {
   "cell_type": "code",
   "execution_count": 1,
   "metadata": {},
   "outputs": [],
   "source": [
    "import random"
   ]
  },
  {
   "cell_type": "code",
   "execution_count": 5,
   "metadata": {},
   "outputs": [
    {
     "name": "stdout",
     "output_type": "stream",
     "text": [
      "The number is equal to 2\n"
     ]
    }
   ],
   "source": [
    "def getNumber(number):\n",
    "    if number in range(1,5):\n",
    "        print('The number is equal to ' + str(number))\n",
    "\n",
    "random_number = random.randint(1,5)\n",
    "getNumber(random_number)"
   ]
  },
  {
   "cell_type": "code",
   "execution_count": 22,
   "metadata": {},
   "outputs": [
    {
     "name": "stdout",
     "output_type": "stream",
     "text": [
      "Choississez un nombre entre 1 et 5 : 3\n",
      "Vous avez choisit 3\n",
      "Ce n'est pas le bon nombre, veuillez réessayer\n",
      "Le bon nombre était 4\n"
     ]
    }
   ],
   "source": [
    "## guess the right number\n",
    "random_number = random.randint(1,5)\n",
    "\n",
    "def guess_number(number):\n",
    "    if int(number) == random_number:\n",
    "        print(\"Bravo, vous avez trouvé le bon nombre ! C'était bien \" + str(number))\n",
    "    else:\n",
    "        print(\"Ce n'est pas le bon nombre, veuillez réessayer\")\n",
    "        print(\"Le bon nombre était \" + str(random_number))\n",
    "        \n",
    "guess_number_user = input('Choississez un nombre entre 1 et 5 : ')\n",
    "print('Vous avez choisit ' + str(guess_number_user))\n",
    "guess_number(guess_number_user)"
   ]
  },
  {
   "cell_type": "code",
   "execution_count": 8,
   "metadata": {},
   "outputs": [],
   "source": [
    "def jeu_devine_nombre():\n",
    "    essaie = 4\n",
    "    ramdom_number = random.randint(1,5)\n",
    "\n",
    "    while essaie > 0:\n",
    "\n",
    "        guess_number_user = input(\"Choississez un nombre entre 1 et 5 : \")\n",
    "\n",
    "        if int(guess_number_user) > ramdom_number:\n",
    "            print(\"Votre nombre est trop grand\")\n",
    "            essaie = essaie - 1\n",
    "            print(\"Il vous reste \" + str(essaie) + \" essaies\")\n",
    "\n",
    "        elif int(guess_number_user) < ramdom_number:\n",
    "            print(\"Votre nombre est trop petit\")\n",
    "            essaie = essaie - 1\n",
    "            print(\"Il vous reste \" + str(essaie) + \" essaies\")\n",
    "\n",
    "        if essaie == 0:\n",
    "            print(\"Vous n'avez plus d'essaie, le bon nombre était \" + str(ramdom_number))\n",
    "\n",
    "        if int(guess_number_user) == ramdom_number:\n",
    "            print(\"BRAVO VOUS AVEZ TROUVÉ\")\n",
    "            print(\"Il vous restait \" + str(essaie) + \" essaies avant la fin du jeu\")\n",
    "            break"
   ]
  },
  {
   "cell_type": "code",
   "execution_count": 9,
   "metadata": {},
   "outputs": [
    {
     "data": {
      "text/plain": [
       "\"tnemenifnoc el tse'C\""
      ]
     },
     "execution_count": 9,
     "metadata": {},
     "output_type": "execute_result"
    }
   ],
   "source": [
    "def reverse_string(string):\n",
    "    return string[::-1]\n",
    "my_string = \"C'est le confinement\"\n",
    "reverse_string(my_string)"
   ]
  },
  {
   "cell_type": "code",
   "execution_count": 12,
   "metadata": {},
   "outputs": [
    {
     "data": {
      "text/plain": [
       "529"
      ]
     },
     "execution_count": 12,
     "metadata": {},
     "output_type": "execute_result"
    }
   ],
   "source": [
    "def calcul_carre(nombre):\n",
    "    return nombre**2\n",
    "calcul_carre(23)"
   ]
  },
  {
   "cell_type": "code",
   "execution_count": 13,
   "metadata": {},
   "outputs": [
    {
     "data": {
      "text/plain": [
       "125.66000000000001"
      ]
     },
     "execution_count": 13,
     "metadata": {},
     "output_type": "execute_result"
    }
   ],
   "source": [
    "def calcul_air_cercle(radius):\n",
    "    return 2*3.1415*radius\n",
    "calcul_air_cercle(20)"
   ]
  },
  {
   "cell_type": "code",
   "execution_count": 14,
   "metadata": {},
   "outputs": [
    {
     "data": {
      "text/plain": [
       "'caci ast un axampla da phrasa'"
      ]
     },
     "execution_count": 14,
     "metadata": {},
     "output_type": "execute_result"
    }
   ],
   "source": [
    "string_repalce = \"ceci est un exemple de phrase\"\n",
    "def remplace_str(string):\n",
    "    final_version = string.replace(\"e\", \"a\")\n",
    "    return final_version\n",
    "remplace_str(string_repalce)"
   ]
  },
  {
   "cell_type": "code",
   "execution_count": 15,
   "metadata": {},
   "outputs": [
    {
     "data": {
      "text/plain": [
       "list"
      ]
     },
     "execution_count": 15,
     "metadata": {},
     "output_type": "execute_result"
    }
   ],
   "source": [
    "ma_liste = []\n",
    "type(ma_liste)"
   ]
  },
  {
   "cell_type": "code",
   "execution_count": 13,
   "metadata": {},
   "outputs": [
    {
     "name": "stdout",
     "output_type": "stream",
     "text": [
      "<class 'bool'>\n",
      "['gterh', 'hvfjes', 'fkjepzoghu']\n",
      "[1, 2, 3, 4, 5]\n",
      "[True]\n"
     ]
    }
   ],
   "source": [
    "big_list = [\"gterh\", \"hvfjes\", \"fkjepzoghu\", 1, 2, 3, 4, 5, True]\n",
    "str_list = []\n",
    "int_list = []\n",
    "bool_list = []\n",
    "print(type(big_list[-1]))\n",
    "\n",
    "for elt in big_list:\n",
    "    if type(elt) == str:\n",
    "        str_list.append(elt)\n",
    "    elif type(elt) == int:\n",
    "        int_list.append(elt)\n",
    "    elif type(elt) == bool:\n",
    "        bool_list.append(elt)\n",
    "\n",
    "print(str_list)\n",
    "print(int_list)\n",
    "print(bool_list)"
   ]
  },
  {
   "cell_type": "code",
   "execution_count": 14,
   "metadata": {},
   "outputs": [
    {
     "name": "stdout",
     "output_type": "stream",
     "text": [
      "['gterh', 'hvfjes', 'fkjepzoghu', 1, 2, 3, 4, 5, True, 'gterh', 'hvfjes', 'fkjepzoghu', 1, 2, 3, 4, 5]\n"
     ]
    }
   ],
   "source": [
    "big_big_list = big_list + str_list + int_list\n",
    "print(big_big_list)"
   ]
  },
  {
   "cell_type": "code",
   "execution_count": 16,
   "metadata": {},
   "outputs": [],
   "source": [
    "big_big_list.remove()"
   ]
  },
  {
   "cell_type": "code",
   "execution_count": 17,
   "metadata": {},
   "outputs": [
    {
     "name": "stdout",
     "output_type": "stream",
     "text": [
      "['gterh', 'hvfjes', 'fkjepzoghu', 2, 3, 4, 5, True, 'gterh', 'hvfjes', 'fkjepzoghu', 1, 2, 3, 4, 5]\n"
     ]
    }
   ],
   "source": [
    "print(big_big_list)"
   ]
  },
  {
   "cell_type": "code",
   "execution_count": 22,
   "metadata": {},
   "outputs": [
    {
     "name": "stdout",
     "output_type": "stream",
     "text": [
      "['test', 'test', 'test', 'gterh', 'hvfjes', 'fkjepzoghu', 2, 3, 4, 5, True, 'gterh', 'hvfjes', 'fkjepzoghu', 1, 2, 3, 4, 'test', 'test', 5, 'test', 'test', 'test']\n"
     ]
    }
   ],
   "source": [
    "big_big_list.insert(0, 'test')\n",
    "big_big_list.insert(-1, 'test')\n",
    "big_big_list.append('test')"
   ]
  },
  {
   "cell_type": "code",
   "execution_count": 27,
   "metadata": {},
   "outputs": [
    {
     "name": "stdout",
     "output_type": "stream",
     "text": [
      "['gterh', 'hvfjes', 'fkjepzoghu', 2, 3, 4, 5, True, 'gterh', 'hvfjes', 'fkjepzoghu', 1, 2, 3, 4, 5, 'test', 'test', 'test']\n"
     ]
    }
   ],
   "source": [
    "big_big_list.remove('test')\n",
    "print(big_big_list)"
   ]
  },
  {
   "cell_type": "code",
   "execution_count": 29,
   "metadata": {},
   "outputs": [
    {
     "name": "stdout",
     "output_type": "stream",
     "text": [
      "<class 'tuple'>\n"
     ]
    }
   ],
   "source": [
    "mon_tuple = ()\n",
    "print(type(mon_tuple))"
   ]
  },
  {
   "cell_type": "code",
   "execution_count": 4,
   "metadata": {},
   "outputs": [
    {
     "name": "stdout",
     "output_type": "stream",
     "text": [
      "a\n",
      "b\n"
     ]
    }
   ],
   "source": [
    "mon_dico = {1: 'a', 2: 'b'}\n",
    "for value in mon_dico.values():\n",
    "    print(value)"
   ]
  },
  {
   "cell_type": "code",
   "execution_count": 9,
   "metadata": {},
   "outputs": [],
   "source": [
    "dico_2 = {k:v*2 for k,v in mon_dico.items()}\n",
    "dico_2 = {k*2 for k in mon_dico.keys()}"
   ]
  },
  {
   "cell_type": "code",
   "execution_count": 10,
   "metadata": {},
   "outputs": [
    {
     "data": {
      "text/plain": [
       "{2, 4}"
      ]
     },
     "execution_count": 10,
     "metadata": {},
     "output_type": "execute_result"
    }
   ],
   "source": [
    "dico_2"
   ]
  },
  {
   "cell_type": "code",
   "execution_count": 11,
   "metadata": {},
   "outputs": [],
   "source": [
    "import os"
   ]
  },
  {
   "cell_type": "code",
   "execution_count": 26,
   "metadata": {},
   "outputs": [
    {
     "name": "stdout",
     "output_type": "stream",
     "text": [
      "ceci est un test d'ecriture dans un fichier txt crée en python\n"
     ]
    }
   ],
   "source": [
    "file = open(\"file.txt\", \"r\")\n",
    "contenu = file.read()\n",
    "print(contenu)\n",
    "file.close()"
   ]
  },
  {
   "cell_type": "code",
   "execution_count": 31,
   "metadata": {},
   "outputs": [],
   "source": [
    "file = open(\"file.txt\", \"a\")\n",
    "file.write(\"\\nBonjour\")\n",
    "file.close()"
   ]
  },
  {
   "cell_type": "code",
   "execution_count": 32,
   "metadata": {},
   "outputs": [
    {
     "name": "stdout",
     "output_type": "stream",
     "text": [
      "ceci est un test d'ecriture dans un fichier txt crée en python\n",
      "Bonjour\n",
      "Bonjour\n",
      "Bonjour\n",
      "Bonjour\n",
      "Bonjour\n",
      "Bonjour\n"
     ]
    }
   ],
   "source": [
    "file = open(\"file.txt\", \"r\")\n",
    "contenu = file.read()\n",
    "print(contenu)\n",
    "file.close()"
   ]
  },
  {
   "cell_type": "code",
   "execution_count": 36,
   "metadata": {},
   "outputs": [
    {
     "name": "stdout",
     "output_type": "stream",
     "text": [
      "ceci est un test d'ecriture dans un fichier txt crée en python\n",
      "Bonjour\n",
      "Bonjour\n",
      "Bonjour\n",
      "Bonjour\n",
      "Bonjour\n",
      "Bonjour\n"
     ]
    }
   ],
   "source": [
    "with open(\"file.txt\", \"r\") as fichier:\n",
    "    lecture = fichier.read()\n",
    "    print(lecture)\n",
    "    fichier.close()"
   ]
  },
  {
   "cell_type": "code",
   "execution_count": 37,
   "metadata": {},
   "outputs": [],
   "source": [
    "with open('file.txt', 'a') as fichier:\n",
    "    fichier.write(\"\\nTest d'ajout\")\n",
    "    fichier.close()"
   ]
  },
  {
   "cell_type": "code",
   "execution_count": 38,
   "metadata": {},
   "outputs": [
    {
     "name": "stdout",
     "output_type": "stream",
     "text": [
      "ceci est un test d'ecriture dans un fichier txt crée en python\n",
      "Bonjour\n",
      "Bonjour\n",
      "Bonjour\n",
      "Bonjour\n",
      "Bonjour\n",
      "Bonjour\n",
      "Test d'ajout\n"
     ]
    }
   ],
   "source": [
    "with open(\"file.txt\", \"r\") as fichier:\n",
    "    lecture = fichier.read()\n",
    "    print(lecture)\n",
    "    fichier.close()"
   ]
  },
  {
   "cell_type": "code",
   "execution_count": 39,
   "metadata": {},
   "outputs": [
    {
     "name": "stdout",
     "output_type": "stream",
     "text": [
      "Entrez le nom du fichier text à créer : python\n",
      "Ecrivez quelque chose : ceci est un test \n",
      "ceci est un test \n"
     ]
    }
   ],
   "source": [
    "create_text = input(\"Entrez le nom du fichier text à créer : \")\n",
    "text_create_text = input(\"Ecrivez quelque chose : \")\n",
    "with open(create_text + \"txt\", \"w\") as fichier:\n",
    "    fichier.write(text_create_text)\n",
    "    fichier.close()\n",
    "with open(create_text, \"r\") as fichier:\n",
    "    lecture = fichier.read()\n",
    "    print(lecture)\n",
    "    fichier.close()"
   ]
  },
  {
   "cell_type": "code",
   "execution_count": 3,
   "metadata": {},
   "outputs": [
    {
     "name": "stdout",
     "output_type": "stream",
     "text": [
      "Impossible de diviser par 0!\n"
     ]
    }
   ],
   "source": [
    "a, b = 3, 4\n",
    "c = 0\n",
    "try:\n",
    "    \n",
    "    d = a/c\n",
    "    print(d)\n",
    "except: \n",
    "    print('Impossible de diviser par 0!')"
   ]
  },
  {
   "cell_type": "code",
   "execution_count": 4,
   "metadata": {},
   "outputs": [
    {
     "data": {
      "text/plain": [
       "{1, 2}"
      ]
     },
     "execution_count": 4,
     "metadata": {},
     "output_type": "execute_result"
    }
   ],
   "source": [
    "mon_dico = {1: 'test', 2: 'etdfey'}\n",
    "{element for element in mon_dico}"
   ]
  },
  {
   "cell_type": "code",
   "execution_count": 7,
   "metadata": {},
   "outputs": [
    {
     "name": "stdout",
     "output_type": "stream",
     "text": [
      "[1, 2, 3, 8, 19]\n"
     ]
    }
   ],
   "source": [
    "liste1 = [1, 2, 3]\n",
    "liste1.append(8)\n",
    "liste2 = liste1\n",
    "liste2.append(19)\n",
    "print(liste1)"
   ]
  },
  {
   "cell_type": "code",
   "execution_count": null,
   "metadata": {},
   "outputs": [
    {
     "name": "stdout",
     "output_type": "stream",
     "text": [
      "ENtrez une option : compteur\n",
      "Il y a 3 élèves!\n",
      "ENtrez une option : display\n",
      "Voici les informations sur l'élèves que vous avez demandé : enzo gros, 23, Master II\n"
     ]
    }
   ],
   "source": [
    "class Eleve:\n",
    "    compteur = 0\n",
    "    def __init__(self, nom, prenom, age, classe):\n",
    "        self.nom = nom\n",
    "        self.prenom = prenom\n",
    "        self.age = age\n",
    "        self.classe = classe\n",
    "        Eleve.compteur += 1\n",
    "    def presentation_eleve(self):\n",
    "        print(\"Voici les informations sur l'élèves que vous avez demandé : \" + self.nom + \" \" + self.prenom + \", \" + self.age + \", \" + self.classe)\n",
    "    def Compteur(self):\n",
    "        print(\"Il y a \" + str(self.compteur) + \" élèves!\")\n",
    "    def _get_lieu(self):\n",
    "        return self._lieu\n",
    "        \n",
    "\n",
    "while True:\n",
    "    question = input(\"Entrez une option : \")\n",
    "    if question == \"q\":\n",
    "        break\n",
    "    elif question == \"add\":\n",
    "        nom = input(\"Entrez un nom : \")\n",
    "        prenom = input(\"Entrez un prenom : \")\n",
    "        age = input(\"Entrez un age : \")\n",
    "        classe = input(\"Entrez une classe : \")\n",
    "        eleve = Eleve(nom, prenom, age, classe)\n",
    "    elif question == \"display\":\n",
    "        eleve.presentation_eleve()\n",
    "    elif question == \"compteur\":\n",
    "        eleve.Compteur()\n",
    "    \n",
    "\"\"\"premier_eleve = Eleve(\"Enzo\", \"Gros\", \"23\", \"Master II\")\n",
    "print(premier_eleve.presentation_eleve())\n",
    "print(premier_eleve.Compteur())\n",
    "\n",
    "deuxieme_eleve = Eleve(\"Gauthier\", \"Paturel\", \"24\", \"Master I\")\n",
    "print(deuxieme_eleve.presentation_eleve())\n",
    "print(deuxieme_eleve.Compteur())\"\"\""
   ]
  },
  {
   "cell_type": "code",
   "execution_count": 1,
   "metadata": {},
   "outputs": [],
   "source": [
    "import datetime"
   ]
  },
  {
   "cell_type": "code",
   "execution_count": 2,
   "metadata": {},
   "outputs": [
    {
     "name": "stdout",
     "output_type": "stream",
     "text": [
      "['MAXYEAR', 'MINYEAR', '__builtins__', '__cached__', '__doc__', '__file__', '__loader__', '__name__', '__package__', '__spec__', 'date', 'datetime', 'datetime_CAPI', 'sys', 'time', 'timedelta', 'timezone', 'tzinfo']\n"
     ]
    }
   ],
   "source": [
    "print(dir(datetime))"
   ]
  },
  {
   "cell_type": "code",
   "execution_count": 3,
   "metadata": {},
   "outputs": [
    {
     "data": {
      "text/plain": [
       "['In',\n",
       " 'Out',\n",
       " '_',\n",
       " '__',\n",
       " '___',\n",
       " '__builtin__',\n",
       " '__builtins__',\n",
       " '__doc__',\n",
       " '__loader__',\n",
       " '__name__',\n",
       " '__package__',\n",
       " '__spec__',\n",
       " '_dh',\n",
       " '_i',\n",
       " '_i1',\n",
       " '_i2',\n",
       " '_i3',\n",
       " '_ih',\n",
       " '_ii',\n",
       " '_iii',\n",
       " '_oh',\n",
       " 'datetime',\n",
       " 'exit',\n",
       " 'get_ipython',\n",
       " 'quit']"
      ]
     },
     "execution_count": 3,
     "metadata": {},
     "output_type": "execute_result"
    }
   ],
   "source": [
    "dir()"
   ]
  },
  {
   "cell_type": "code",
   "execution_count": 4,
   "metadata": {},
   "outputs": [
    {
     "name": "stdout",
     "output_type": "stream",
     "text": [
      "2019-12-21\n"
     ]
    }
   ],
   "source": [
    "a = 2019\n",
    "b = 12\n",
    "c = 21\n",
    "date = datetime.date(a,b,c)\n",
    "print(date)"
   ]
  },
  {
   "cell_type": "code",
   "execution_count": 5,
   "metadata": {},
   "outputs": [],
   "source": [
    "import re"
   ]
  },
  {
   "cell_type": "code",
   "execution_count": 6,
   "metadata": {},
   "outputs": [],
   "source": [
    "#Numpy\n",
    "import numpy"
   ]
  },
  {
   "cell_type": "code",
   "execution_count": 3,
   "metadata": {},
   "outputs": [
    {
     "name": "stdout",
     "output_type": "stream",
     "text": [
      "2\n",
      "second element of the second dimension list is : 3\n"
     ]
    }
   ],
   "source": [
    "new_arr = numpy.array([[1,2,3], [2,3,4]])\n",
    "print(new_arr.ndim)\n",
    "print('second element of the second dimension list is : ' + str(new_arr[1, 1]))"
   ]
  },
  {
   "cell_type": "code",
   "execution_count": 4,
   "metadata": {},
   "outputs": [
    {
     "name": "stdout",
     "output_type": "stream",
     "text": [
      "3\n",
      "first element of the third dimension : 45\n"
     ]
    }
   ],
   "source": [
    "my_arr = numpy.array([[[1,2,3], [2,34,45]], [[11,222,321], [\"test\",\"kfmneoruqbvm\",45]]])\n",
    "print(my_arr.ndim)\n",
    "print('first element of the third dimension : ' + my_arr[1, -1, -1]) #dernire élément du dernier tableau"
   ]
  },
  {
   "cell_type": "code",
   "execution_count": 14,
   "metadata": {},
   "outputs": [
    {
     "name": "stdout",
     "output_type": "stream",
     "text": [
      "[2 3 4]\n",
      "[1 3]\n",
      "[3 4 5]\n",
      "[1 2 3 4]\n",
      "[3 4]\n",
      "[1 3 5]\n"
     ]
    }
   ],
   "source": [
    "second_arr = numpy.array([1,2,3,4,5])\n",
    "print(second_arr[1:-1])\n",
    "print(second_arr[0:4:2])\n",
    "print(second_arr[2:])\n",
    "print(second_arr[:4])\n",
    "print(second_arr[-3:-1])\n",
    "print(second_arr[::2])"
   ]
  },
  {
   "cell_type": "code",
   "execution_count": 31,
   "metadata": {},
   "outputs": [
    {
     "name": "stdout",
     "output_type": "stream",
     "text": [
      "['3']\n",
      "['3' '5' 'fekzom']\n"
     ]
    }
   ],
   "source": [
    "other_arr = numpy.array([[1,2,3], \n",
    "                         [3,4,5],\n",
    "                         [\"gfeo\", \"nfjiezg\", \"fekzom\"]])\n",
    "print(other_arr[1, 0::-1])\n",
    "print(other_arr[0:3, 2])\n",
    "                #i  #j\n",
    "#i = la ligne sélectionnée\n",
    "#j = la colonne sélectionnée\n",
    "#other_arr[0:3, 2] ==> On prend à partir du premier élément, on prend 3 éléments, on sélectionne la troisième \n",
    "#colonne(n+1) => 2 + 1\n",
    "#POUR LES TABLEAUX À 2 DIMENSIONS\n",
    "\n",
    "#a2 = np.array([[10, 11, 12, 13, 14],\n",
    "               #[15, 16, 17, 18, 19],\n",
    "               #[20, 21, 22, 23, 24],\n",
    "               #[25, 26, 27, 28, 29]])\n",
    "\n",
    "#print(a2[1:,2:4])  # [[17 18]\n",
    "                   #  [22 23]\n",
    "                   #  [27 28]]"
   ]
  },
  {
   "cell_type": "code",
   "execution_count": 2,
   "metadata": {},
   "outputs": [],
   "source": [
    "import numpy as np\n",
    "a3 = np.array([[[10, 11, 12], \n",
    "                [13, 14, 15], \n",
    "                [16, 17, 18]],[[20, 21, 22], \n",
    "                               [23, 24, 25], \n",
    "                               [26, 27, 28]],\n",
    "                                           [[30, 31, 32], \n",
    "                                            [33, 34, 35], \n",
    "                                            [36, 37, 38]]])\n",
    "#A 3D array is like a stack of matrices:\n",
    "#The first index, i, selects the matrix\n",
    "#The second index, j, selects the row\n",
    "#The third index, k, selects the column\n",
    "######print(a3[2, 0, 1]) # 31#######\n",
    "#print(a3[0, :, 1]) # [11 14 17]\n",
    "#print(a3[:, 1, 2]) # [15, 25, 35]\n",
    "#print(a3[2]) # [[30 31 32]\n",
    "              #  [33 34 35]\n",
    "              #  [36 37 38]]"
   ]
  },
  {
   "cell_type": "code",
   "execution_count": 2,
   "metadata": {},
   "outputs": [],
   "source": [
    "class heros():\n",
    "    def __init__(self, nom, taille, poids):\n",
    "        self.nom = nom\n",
    "        self.taille = taille\n",
    "        self.poids = poids\n",
    "    def print_heros():\n",
    "        print(\"Voici les stats de votre heros : \" + self.nom + \" \"+ self.taille + \" \"+ self.poids)"
   ]
  },
  {
   "cell_type": "code",
   "execution_count": 11,
   "metadata": {},
   "outputs": [
    {
     "data": {
      "text/plain": [
       "'£90.0'"
      ]
     },
     "execution_count": 11,
     "metadata": {},
     "output_type": "execute_result"
    }
   ],
   "source": [
    "wrapper = 100\n",
    "\n",
    "def price_string(func):\n",
    "    def wrapper(arg):\n",
    "        return \"£\" + str(func(arg))\n",
    "\n",
    "    return wrapper  \n",
    "\n",
    "@price_string\n",
    "def new_price(arg):\n",
    "    return float(wrapper * (90/100))\n",
    "\n",
    "new_price(100)"
   ]
  },
  {
   "cell_type": "code",
   "execution_count": 26,
   "metadata": {},
   "outputs": [
    {
     "name": "stdout",
     "output_type": "stream",
     "text": [
      "voici les informations sur les propriétés d'une carte : \n",
      "Nom : Dragon ailé de râ\n",
      "Attaque : ?\n",
      "Défense : ?\n",
      "Attribut : Divin\n",
      "Classe : Bête sacrée\n",
      "Effet : Need 3 sacrifices\n"
     ]
    }
   ],
   "source": [
    "class carte():\n",
    "    \n",
    "    def __init__(self, nom, attaque, defense, attribut, classe, effet):\n",
    "        self.nom = nom\n",
    "        self.attaque = attaque\n",
    "        self.defense = defense\n",
    "        self.attribut = attribut\n",
    "        self.classe = classe\n",
    "        self.effet = effet\n",
    "        \n",
    "    def presentation(self):\n",
    "        print(\"voici les informations sur les propriétés d'une carte : \")\n",
    "        print(\"Nom : \"+self.nom)\n",
    "        print(\"Attaque : \" + self.attaque)\n",
    "        print(\"Défense : \"+ self.defense)\n",
    "        print(\"Attribut : \"+ self.attribut)\n",
    "        print(\"Classe : \"+ self.classe)\n",
    "        print(\"Effet : \"+ self.effet)\n",
    "        \n",
    "Ra = carte(\"Dragon ailé de râ\", \"?\", \"?\", \"Divin\", \"Bête sacrée\", \"Need 3 sacrifices\")\n",
    "Ra.presentation()"
   ]
  },
  {
   "cell_type": "code",
   "execution_count": null,
   "metadata": {},
   "outputs": [],
   "source": []
  }
 ],
 "metadata": {
  "kernelspec": {
   "display_name": "Python 3",
   "language": "python",
   "name": "python3"
  },
  "language_info": {
   "codemirror_mode": {
    "name": "ipython",
    "version": 3
   },
   "file_extension": ".py",
   "mimetype": "text/x-python",
   "name": "python",
   "nbconvert_exporter": "python",
   "pygments_lexer": "ipython3",
   "version": "3.7.6"
  }
 },
 "nbformat": 4,
 "nbformat_minor": 4
}
